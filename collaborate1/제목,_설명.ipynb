{
  "nbformat": 4,
  "nbformat_minor": 0,
  "metadata": {
    "colab": {
      "name": "제목, 설명.ipynb",
      "provenance": []
    },
    "kernelspec": {
      "name": "python3",
      "display_name": "Python 3"
    },
    "language_info": {
      "name": "python"
    }
  },
  "cells": [
    {
      "cell_type": "code",
      "source": [
        "from urllib.request import urlopen\n",
        "url='https://www.data.go.kr/tcs/dss/selectDataSetList.do?dType=FILE&keyword=%EC%BD%94%EB%A1%9C%EB%82%98&detailKeyword=&publicDataPk=&recmSe=&detailText=&relatedKeyword=&commaNotInData=&commaAndData=&commaOrData=&must_not=&tabId=&dataSetCoreTf=&coreDataNm=&sort=_score&relRadio=&orgFullName=&orgFilter=&org=&orgSearch=&currentPage=1&perPage=10&brm=&instt=&svcType=&kwrdArray=&extsn=&coreDataNmArray=&pblonsipScopeCode='\n",
        "htmlData=urlopen(url).read()\n",
        "htmlData=htmlData.decode('utf8')\n",
        "from bs4 import BeautifulSoup as bs\n",
        "html=bs(htmlData,'html.parser')\n",
        "ul=html.select('#fileDataList > div.result-list > ul')\n",
        "\n",
        "span=html.select('.title')\n",
        "for i in range(len(span)):\n",
        "  print(span[i].text.replace('\t\t\t\t\t\t\t\t\t\t\t\t\t',''))"
      ],
      "metadata": {
        "id": "YYE0pgXPur0_"
      },
      "execution_count": null,
      "outputs": []
    }
  ]
}