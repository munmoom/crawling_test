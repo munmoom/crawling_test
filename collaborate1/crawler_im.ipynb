{
  "nbformat": 4,
  "nbformat_minor": 0,
  "metadata": {
    "colab": {
      "name": "Untitled52.ipynb",
      "provenance": [],
      "include_colab_link": true
    },
    "kernelspec": {
      "name": "python3",
      "display_name": "Python 3"
    },
    "language_info": {
      "name": "python"
    }
  },
  "cells": [
    {
      "cell_type": "markdown",
      "metadata": {
        "id": "view-in-github",
        "colab_type": "text"
      },
      "source": [
        "<a href=\"https://colab.research.google.com/github/munmoom/Crawler_collaborate/blob/main/crawler_im.ipynb\" target=\"_parent\"><img src=\"https://colab.research.google.com/assets/colab-badge.svg\" alt=\"Open In Colab\"/></a>"
      ]
    },
    {
      "cell_type": "code",
      "execution_count": null,
      "metadata": {
        "id": "0BbqZWHoGOku"
      },
      "outputs": [],
      "source": [
        "from selenium import webdriver\n",
        "from selenium.webdriver.common.keys import Keys\n",
        "import time\n",
        "driver = webdriver.Chrome(executable_path= \"./chromedriver.exe\")\n",
        "url = \"\"\n",
        "driver.get(url)\n",
        "time.sleep(10)\n",
        "serch=driver.find_element_by_xpath('')\n",
        "serch.click()\n",
        "driver.find_element_by_xpath('').send_keys('')\n",
        "serch.send_keys(Keys.ENTER)\n",
        "res = []\n",
        "for _ in range(5):\n",
        "time.sleep(10)\n",
        "for j in range(1,11):\n",
        "\n",
        "\n",
        "#수정연습\n",
        "\n",
        "try:\n",
        "# 먼저 레포지토리의 제작자와 레포지토리의 이름을 가져오는 변수입니다.\n",
        "name = driver.find_element_by_xpath(f'//*[@id=\"js-pjax-container\"]/div/div[3]/div/ul/li[{j}]/div[2]/div[1]/div/a').text\n",
        "# 잘 되고 있는지 확인 차 print 문으로 해당 변수와 경계를 표시해줍니다.\n",
        "print(f'---{name}---')\n",
        "except:\n",
        "# 타겟에 안 맞으면 변수에 결측치 표시를 위해 NAN을 할당해주고 다음 행동으로 넘어갑니다.\n",
        "name = \"NAN\"\n",
        "pass\n",
        "try:\n",
        "# name 처럼 추천을 받은 수도 해줍니다. 아래도 마찬가지로 사용된 언어, 업데이트된 날짜도 같은 방식으로 해줍니다.\n",
        "stars = driver.find_element_by_xpath(f'//*[@id=\"js-pjax-container\"]/div/div[3]/div/ul/li[{j}]/div[2]/div[2]/div/div[1]/a').text\n",
        "print(f'---{stars}---')\n",
        "except:\n",
        "stars = \"NAN\"\n",
        "pass\n",
        "try:\n",
        "lang = driver.find_element_by_xpath(f'//*[@id=\"js-pjax-container\"]/div/div[3]/div/ul/li[{j}]/div[2]/div[2]/div/div[2]/span/span[2]\n",
        "print(f'---{lang}---')\n",
        "except :\n",
        "lang = \"NAN\"\n",
        "pass\n",
        "try:\n",
        "date = driver.find_element_by_xpath(f'//*[@id=\"js-pjax-container\"]/div/div[3]/div/ul/li[{j}]/div[2]/div[2]/div/div[3]').text\n",
        "print(f'---{date}---')\n",
        "except:\n",
        "date = \"NAN\"\n",
        "pass\n",
        "# 한 목록의 크롤링이 끝나면 res 변수에 원소를 추가 해주고 다음 목록으로 넘어갑니다.\n",
        "res.append((name,stars,lang,date))\n",
        "\n",
        "driver.find_element_by_css_selector('#js-pjax-container > div > div.col-12.col-md-9.float-left.px-2.pt-3.pt-md-0.codesearch-results >\n",
        "\n",
        "print(res)\n",
        "driver.quit()\n",
        "import pandas as pd\n",
        "# 우리가 크롤링한 데이터를 데이터 프레임 변수에 할당해줍니다.\n",
        "data = pd.DataFrame(res)\n",
        "# 그리고 우리가 작업하고 있는 디렉토리에 csv파일을 저장해줍니다.\n",
        "data.to_csv('./data.csv')\n"
      ]
    }
  ]
}